{
 "cells": [
  {
   "cell_type": "code",
   "execution_count": 2,
   "metadata": {},
   "outputs": [],
   "source": [
    "from subprocess import Popen, PIPE\n",
    "\n",
    "def run_main(args):\n",
    "    run_logs = {}\n",
    "    p = Popen(args, stdout=PIPE, bufsize=1)\n",
    "    with p.stdout:\n",
    "        for line in iter(p.stdout.readline, b''):\n",
    "            print line[:-1]\n",
    "    p.wait() # wait for the subprocess to exit\n"
   ]
  },
  {
   "cell_type": "code",
   "execution_count": 3,
   "metadata": {},
   "outputs": [],
   "source": [
    "from os import listdir\n",
    "output_files_posta = [filename.split('.') for filename in listdir('.') if '.posta' in filename]\n",
    "input_filenames = [filename[0] + '.txt' for filename in output_files_posta]\n"
   ]
  },
  {
   "cell_type": "code",
   "execution_count": null,
   "metadata": {
    "scrolled": true
   },
   "outputs": [
    {
     "name": "stdout",
     "output_type": "stream",
     "text": [
      "argv[0]: ../cmake-build-debug/main\n",
      "argv[1]: ../cuantitative_tests/test_15_segundos.txt\n",
      "argv[2]: 0.9\n",
      "outFilePath: ../cuantitative_tests/test_15_segundos.txt.out\n",
      "p: 0.9\n",
      "'load_time': 896547510\n",
      "'matmul_time': 34772469033\n",
      "'matadd_time': 1603825294\n",
      "'gauss_elim_time': 82500230627\n"
     ]
    }
   ],
   "source": [
    "tp_exec = '../cmake-build-debug/main'\n",
    "exp_array=[]\n",
    "for filename in input_filenames:\n",
    "    file_path = '../cuantitative_tests/' + filename    \n",
    "    args = [tp_exec, file_path]\n",
    "    with open(filename + '.out.posta') as f:\n",
    "        p = f.readline()[:-1]\n",
    "        args.append(p)\n",
    "        run_main(args)"
   ]
  },
  {
   "cell_type": "code",
   "execution_count": null,
   "metadata": {},
   "outputs": [],
   "source": [
    "calculated_output_filenames = [filename[0] + '.txt.out' for filename in output_files_posta]\n",
    "calculated_output_filenames\n"
   ]
  },
  {
   "cell_type": "code",
   "execution_count": null,
   "metadata": {},
   "outputs": [],
   "source": [
    "def get_scores_from_file(filename):\n",
    "    res = []\n",
    "    with open(filename) as f:\n",
    "        f.readline()\n",
    "        for line in f:\n",
    "            res.append(float(line))\n",
    "    return np.array(res)"
   ]
  },
  {
   "cell_type": "code",
   "execution_count": null,
   "metadata": {},
   "outputs": [],
   "source": [
    "matrix_names = [output_file[0] for output_file in output_files_posta]"
   ]
  },
  {
   "cell_type": "code",
   "execution_count": null,
   "metadata": {},
   "outputs": [],
   "source": [
    "for name in matrix_names:\n",
    "    calculated = name + '.txt.out'\n",
    "    posta = name + '.txt.out.posta'\n",
    "    print('sum error for {}:').format(name)\n",
    "    print(np.max(np.abs(get_scores_from_file(calculated) - get_scores_from_file(posta))))\n",
    "    "
   ]
  },
  {
   "cell_type": "code",
   "execution_count": 39,
   "metadata": {},
   "outputs": [
    {
     "name": "stdout",
     "output_type": "stream",
     "text": [
      "sum error for ../cmake-build-debug/test_15_segundos:\n",
      "0.030191546400000015\n"
     ]
    }
   ],
   "source": [
    "name = '../cmake-build-debug/test_15_segundos'\n",
    "\n",
    "calculated = name + '.txt.out'\n",
    "posta = name + '.txt.out.posta'\n",
    "print('sum error for {}:').format(name)\n",
    "print(sum(np.abs(get_scores_from_file(calculated) - get_scores_from_file(posta))))"
   ]
  }
 ],
 "metadata": {
  "kernelspec": {
   "display_name": "Python 2",
   "language": "python",
   "name": "python2"
  },
  "language_info": {
   "codemirror_mode": {
    "name": "ipython",
    "version": 2
   },
   "file_extension": ".py",
   "mimetype": "text/x-python",
   "name": "python",
   "nbconvert_exporter": "python",
   "pygments_lexer": "ipython2",
   "version": "2.7.10"
  }
 },
 "nbformat": 4,
 "nbformat_minor": 2
}
