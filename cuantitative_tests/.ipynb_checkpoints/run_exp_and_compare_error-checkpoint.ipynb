{
 "cells": [
  {
   "cell_type": "code",
   "execution_count": 1,
   "metadata": {},
   "outputs": [
    {
     "name": "stdout",
     "output_type": "stream",
     "text": [
      "argv[0]: ../cmake-build-debug/main\n",
      "\n",
      "argv[1]: ../tests_tp1/test_aleatorio.txt\n",
      "\n",
      "argv[2]: 0.85\n",
      "\n",
      "outFilePath: ../tests_tp1/test_aleatorio.txt.out\n",
      "\n",
      "p: 0.85\n",
      "\n",
      "Unable to open file.\n",
      "\n"
     ]
    },
    {
     "data": {
      "text/plain": [
       "1"
      ]
     },
     "execution_count": 1,
     "metadata": {},
     "output_type": "execute_result"
    }
   ],
   "source": [
    "from subprocess import Popen, PIPE\n",
    "tp_exec = '../cmake-build-debug/main'\n",
    "file_path = 'test_aleatorio.txt'\n",
    "p = '0.85'\n",
    "args = [tp_exec, file_path, p]\n",
    "\n",
    "run_logs = {}\n",
    "p = Popen(args, stdout=PIPE, bufsize=1)\n",
    "with p.stdout:\n",
    "    for line in iter(p.stdout.readline, b''):\n",
    "        print line \n",
    "p.wait() # wait for the subprocess to exit\n"
   ]
  }
 ],
 "metadata": {
  "kernelspec": {
   "display_name": "Python 2",
   "language": "python",
   "name": "python2"
  },
  "language_info": {
   "codemirror_mode": {
    "name": "ipython",
    "version": 2
   },
   "file_extension": ".py",
   "mimetype": "text/x-python",
   "name": "python",
   "nbconvert_exporter": "python",
   "pygments_lexer": "ipython2",
   "version": "2.7.10"
  }
 },
 "nbformat": 4,
 "nbformat_minor": 2
}
