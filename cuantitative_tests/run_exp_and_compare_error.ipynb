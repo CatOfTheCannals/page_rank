{
 "cells": [
  {
   "cell_type": "code",
   "execution_count": 2,
   "metadata": {},
   "outputs": [],
   "source": [
    "from subprocess import Popen, PIPE\n",
    "\n",
    "def run_main(args):\n",
    "    run_logs = {}\n",
    "    p = Popen(args, stdout=PIPE, bufsize=1)\n",
    "    with p.stdout:\n",
    "        for line in iter(p.stdout.readline, b''):\n",
    "            print line[:-1]\n",
    "    p.wait() # wait for the subprocess to exit\n"
   ]
  },
  {
   "cell_type": "code",
   "execution_count": 3,
   "metadata": {},
   "outputs": [],
   "source": [
    "from os import listdir\n",
    "output_files_posta = [filename.split('.') for filename in listdir('.') if '.posta' in filename]\n",
    "input_filenames = [filename[0] + '.txt' for filename in output_files_posta]\n"
   ]
  },
  {
   "cell_type": "code",
   "execution_count": 4,
   "metadata": {
    "scrolled": true
   },
   "outputs": [
    {
     "name": "stdout",
     "output_type": "stream",
     "text": [
      "argv[0]: ../cmake-build-debug/main\n",
      "argv[1]: ../cuantitative_tests/test_15_segundos.txt\n",
      "argv[2]: 0.9\n",
      "outFilePath: ../cuantitative_tests/test_15_segundos.txt.out\n",
      "p: 0.9\n",
      "'load_time': 896547510\n",
      "'matmul_time': 34772469033\n",
      "'matadd_time': 1603825294\n",
      "'gauss_elim_time': 82500230627\n",
      "'backward_back_time': 180471788247\n",
      "'page_rank_time': 299936952615\n",
      "argv[0]: ../cmake-build-debug/main\n",
      "argv[1]: ../cuantitative_tests/test_30_segundos.txt\n",
      "argv[2]: 0.8\n",
      "outFilePath: ../cuantitative_tests/test_30_segundos.txt.out\n",
      "p: 0.8\n",
      "'load_time': 1146795320\n",
      "'matmul_time': 73389834177\n",
      "'matadd_time': 3673268332\n",
      "'gauss_elim_time': 157737761287\n",
      "'backward_back_time': 401571894161\n",
      "'page_rank_time': 637864106522\n",
      "argv[0]: ../cmake-build-debug/main\n",
      "argv[1]: ../cuantitative_tests/test_aleatorio.txt\n",
      "argv[2]: 0.85\n",
      "outFilePath: ../cuantitative_tests/test_aleatorio.txt.out\n",
      "p: 0.85\n",
      "'load_time': 79884\n",
      "'matmul_time': 167089\n",
      "'matadd_time': 15643\n",
      "'gauss_elim_time': 28697\n",
      "'backward_back_time': 75758\n",
      "'page_rank_time': 328357\n",
      "argv[0]: ../cmake-build-debug/main\n",
      "argv[1]: ../cuantitative_tests/test_aleatorio_desordenado.txt\n",
      "argv[2]: 0.76\n",
      "outFilePath: ../cuantitative_tests/test_aleatorio_desordenado.txt.out\n",
      "p: 0.76\n",
      "'load_time': 86087\n",
      "'matmul_time': 168386\n",
      "'matadd_time': 16563\n",
      "'gauss_elim_time': 30067\n",
      "'backward_back_time': 79805\n",
      "'page_rank_time': 338761\n",
      "argv[0]: ../cmake-build-debug/main\n",
      "argv[1]: ../cuantitative_tests/test_completo.txt\n",
      "argv[2]: 0.5\n",
      "outFilePath: ../cuantitative_tests/test_completo.txt.out\n",
      "p: 0.5\n",
      "'load_time': 96657\n",
      "'matmul_time': 241582\n",
      "'matadd_time': 19252\n",
      "'gauss_elim_time': 40766\n",
      "'backward_back_time': 101387\n",
      "'page_rank_time': 452381\n",
      "argv[0]: ../cmake-build-debug/main\n",
      "argv[1]: ../cuantitative_tests/test_sin_links.txt\n",
      "argv[2]: 0.64\n",
      "outFilePath: ../cuantitative_tests/test_sin_links.txt.out\n",
      "p: 0.64\n",
      "'load_time': 51912\n",
      "'matmul_time': 65868\n",
      "'matadd_time': 12258\n",
      "'gauss_elim_time': 14427\n",
      "'backward_back_time': 82904\n",
      "'page_rank_time': 222846\n",
      "argv[0]: ../cmake-build-debug/main\n",
      "argv[1]: ../cuantitative_tests/test_trivial.txt\n",
      "argv[2]: 0.3\n",
      "outFilePath: ../cuantitative_tests/test_trivial.txt.out\n",
      "p: 0.3\n",
      "'load_time': 47149\n",
      "'matmul_time': 21556\n",
      "'matadd_time': 2038\n",
      "'gauss_elim_time': 8899\n",
      "'backward_back_time': 15275\n",
      "'page_rank_time': 83390\n"
     ]
    }
   ],
   "source": [
    "tp_exec = '../cmake-build-debug/main'\n",
    "exp_array=[]\n",
    "for filename in input_filenames:\n",
    "    file_path = '../cuantitative_tests/' + filename    \n",
    "    args = [tp_exec, file_path]\n",
    "    with open(filename + '.out.posta') as f:\n",
    "        p = f.readline()[:-1]\n",
    "        args.append(p)\n",
    "        run_main(args)"
   ]
  },
  {
   "cell_type": "code",
   "execution_count": 5,
   "metadata": {},
   "outputs": [
    {
     "data": {
      "text/plain": [
       "['test_15_segundos.txt.out',\n",
       " 'test_30_segundos.txt.out',\n",
       " 'test_aleatorio.txt.out',\n",
       " 'test_aleatorio_desordenado.txt.out',\n",
       " 'test_completo.txt.out',\n",
       " 'test_sin_links.txt.out',\n",
       " 'test_trivial.txt.out']"
      ]
     },
     "execution_count": 5,
     "metadata": {},
     "output_type": "execute_result"
    }
   ],
   "source": [
    "calculated_output_filenames = [filename[0] + '.txt.out' for filename in output_files_posta]\n",
    "calculated_output_filenames\n"
   ]
  },
  {
   "cell_type": "code",
   "execution_count": 11,
   "metadata": {},
   "outputs": [],
   "source": [
    "import numpy as np\n",
    "def get_scores_from_file(filename):\n",
    "    res = []\n",
    "    with open(filename) as f:\n",
    "        f.readline()\n",
    "        for line in f:\n",
    "            res.append(float(line))\n",
    "    return np.array(res)"
   ]
  },
  {
   "cell_type": "code",
   "execution_count": 12,
   "metadata": {},
   "outputs": [],
   "source": [
    "matrix_names = [output_file[0] for output_file in output_files_posta]"
   ]
  },
  {
   "cell_type": "code",
   "execution_count": 16,
   "metadata": {},
   "outputs": [
    {
     "name": "stdout",
     "output_type": "stream",
     "text": [
      "sum error for test_15_segundos:\n",
      "0.09471315860000001\n",
      "sum error for test_30_segundos:\n",
      "0.13259852960000001\n",
      "sum error for test_aleatorio:\n",
      "0.21967639999999997\n",
      "sum error for test_aleatorio_desordenado:\n",
      "0.209615\n",
      "sum error for test_completo:\n",
      "0.09795799999999999\n",
      "sum error for test_sin_links:\n",
      "0.0\n",
      "sum error for test_trivial:\n",
      "0.0\n"
     ]
    }
   ],
   "source": [
    "for name in matrix_names:\n",
    "    calculated = name + '.txt.out'\n",
    "    posta = name + '.txt.out.posta'\n",
    "    print('sum error for {}:').format(name)\n",
    "    print(np.sum(np.abs(get_scores_from_file(calculated) - get_scores_from_file(posta))))\n",
    "    "
   ]
  },
  {
   "cell_type": "code",
   "execution_count": 39,
   "metadata": {},
   "outputs": [
    {
     "name": "stdout",
     "output_type": "stream",
     "text": [
      "sum error for ../cmake-build-debug/test_15_segundos:\n",
      "0.030191546400000015\n"
     ]
    }
   ],
   "source": [
    "name = '../cmake-build-debug/test_15_segundos'\n",
    "\n",
    "calculated = name + '.txt.out'\n",
    "posta = name + '.txt.out.posta'\n",
    "print('sum error for {}:').format(name)\n",
    "print(sum(np.abs(get_scores_from_file(calculated) - get_scores_from_file(posta))))"
   ]
  }
 ],
 "metadata": {
  "kernelspec": {
   "display_name": "Python 2",
   "language": "python",
   "name": "python2"
  },
  "language_info": {
   "codemirror_mode": {
    "name": "ipython",
    "version": 2
   },
   "file_extension": ".py",
   "mimetype": "text/x-python",
   "name": "python",
   "nbconvert_exporter": "python",
   "pygments_lexer": "ipython2",
   "version": "2.7.10"
  }
 },
 "nbformat": 4,
 "nbformat_minor": 2
}
